{
 "cells": [
  {
   "cell_type": "code",
   "execution_count": 5,
   "metadata": {},
   "outputs": [
    {
     "name": "stdout",
     "output_type": "stream",
     "text": [
      "Enter a number to get its multiplication table : \n",
      "5\n",
      "5 * 1 = 5\n",
      "5 * 2 = 10\n",
      "5 * 3 = 15\n",
      "5 * 4 = 20\n",
      "5 * 5 = 25\n",
      "5 * 6 = 30\n",
      "5 * 7 = 35\n",
      "5 * 8 = 40\n",
      "5 * 9 = 45\n",
      "5 * 10 = 50\n",
      "5 * 11 = 55\n",
      "5 * 12 = 60\n"
     ]
    }
   ],
   "source": [
    "#1. print multiplication table of a number\n",
    "\n",
    "def table(num):\n",
    "    '''\n",
    "    This function prints the multiplication table for the given input\n",
    "    '''\n",
    "    for i in range(1, 13):\n",
    "        print(\"{0} * {1} = {2}\".format(num, i, num * i))\n",
    "\n",
    "number = int(input(\"Enter a number to get its multiplication table : \\n\"))\n",
    "table(number)\n"
   ]
  },
  {
   "cell_type": "code",
   "execution_count": 7,
   "metadata": {},
   "outputs": [
    {
     "name": "stdout",
     "output_type": "stream",
     "text": [
      "Enter a range to print twin prime numbers : \n",
      "1000\n",
      "1 3\n",
      "3 5\n",
      "5 7\n",
      "11 13\n",
      "17 19\n",
      "29 31\n",
      "41 43\n",
      "59 61\n",
      "71 73\n",
      "101 103\n",
      "107 109\n",
      "137 139\n",
      "149 151\n",
      "179 181\n",
      "191 193\n",
      "197 199\n",
      "227 229\n",
      "239 241\n",
      "269 271\n",
      "281 283\n",
      "311 313\n",
      "347 349\n",
      "419 421\n",
      "431 433\n",
      "461 463\n",
      "521 523\n",
      "569 571\n",
      "599 601\n",
      "617 619\n",
      "641 643\n",
      "659 661\n",
      "809 811\n",
      "821 823\n",
      "827 829\n",
      "857 859\n",
      "881 883\n"
     ]
    }
   ],
   "source": [
    "#2. Print twin prime numbers \n",
    "\n",
    "def twinPrime(num):\n",
    "    lst = []\n",
    "    lst.append(1)\n",
    "    for i in range(3, num, 2):\n",
    "        count = 0\n",
    "        for j in range(2, i):\n",
    "            if 0 == i % j:\n",
    "                count += 1\n",
    "                \n",
    "        if 0 == count:\n",
    "            if 2 == i - lst[0]:\n",
    "                print(\"{0} {1}\".format(lst[0], i))\n",
    "            lst[0] = i\n",
    "\n",
    "number = int(input(\"Enter a range to print twin prime numbers : \\n\"))\n",
    "twinPrime(number)"
   ]
  },
  {
   "cell_type": "code",
   "execution_count": 6,
   "metadata": {},
   "outputs": [
    {
     "name": "stdout",
     "output_type": "stream",
     "text": [
      "Enter a number to get its prime factors : \n",
      "51\n",
      "3\n",
      "17\n"
     ]
    }
   ],
   "source": [
    "#3. Program to print prime factors of a number\n",
    "\n",
    "number = int(input(\"Enter a number to get its prime factors : \\n\"))\n",
    "i = 2\n",
    "while i < number + 1:\n",
    "    if 0 == number % i:\n",
    "        print(i)\n",
    "        number /= i;\n",
    "    else:\n",
    "        i += 1\n",
    "    "
   ]
  },
  {
   "cell_type": "code",
   "execution_count": 24,
   "metadata": {},
   "outputs": [
    {
     "name": "stdout",
     "output_type": "stream",
     "text": [
      "Enter n for permutation and combination : \n",
      "5\n",
      "Enter r for permutation and combination : \n",
      "5\n",
      "120.0\n",
      "1.0\n"
     ]
    }
   ],
   "source": [
    "#4. Implement permutation and combination\n",
    "\n",
    "def factorial(num):\n",
    "    '''\n",
    "    This function returns the factorial of a given input number\n",
    "    '''\n",
    "    return 1 if num <= 1 else num * factorial(num - 1)\n",
    "\n",
    "def permutation(n, r):\n",
    "    '''\n",
    "    This function returns the permutation of a given number\n",
    "    '''\n",
    "    return factorial(n) / factorial(n - r)\n",
    "    \n",
    "def combination(n, r):\n",
    "    '''\n",
    "    This function returns the combination of a given number\n",
    "    '''\n",
    "    result = permutation(n, r) / factorial(r)\n",
    "    print(result)\n",
    "    return\n",
    "\n",
    "n = int(input(\"Enter n for permutation and combination : \\n\"))\n",
    "r = int(input(\"Enter r for permutation and combination : \\n\"))\n",
    "\n",
    "result = permutation(n, r)\n",
    "print(result)\n",
    "combination(n, r)\n"
   ]
  },
  {
   "cell_type": "code",
   "execution_count": 41,
   "metadata": {},
   "outputs": [
    {
     "name": "stdout",
     "output_type": "stream",
     "text": [
      "Enter a number to convert into binary : \n",
      "99\n",
      "1100011\n"
     ]
    }
   ],
   "source": [
    "#5. Function to convert decimal to binary\n",
    "\n",
    "def decToBin(num):\n",
    "    '''\n",
    "    This function converts the given decimal number into binary\n",
    "    '''\n",
    "    lst = []\n",
    "    while num > 0:\n",
    "        lst.append(str(num % 2))\n",
    "        num = num >> 1\n",
    "    return lst\n",
    "    \n",
    "number = int(input(\"Enter a number to convert into binary : \\n\"))\n",
    "result = decToBin(number)\n",
    "result.reverse()\n",
    "print(''.join(result))"
   ]
  },
  {
   "cell_type": "code",
   "execution_count": 14,
   "metadata": {},
   "outputs": [
    {
     "name": "stdout",
     "output_type": "stream",
     "text": [
      "Enter a range upto where the Armstrong Numbers should be printed : \n",
      "1000\n",
      "The Number 0 is an Armstrong Number\n",
      "The Number 1 is an Armstrong Number\n",
      "The Number 153 is an Armstrong Number\n",
      "The Number 370 is an Armstrong Number\n",
      "The Number 371 is an Armstrong Number\n",
      "The Number 407 is an Armstrong Number\n"
     ]
    }
   ],
   "source": [
    "#6. Print Armstrong Numbers\n",
    "\n",
    "def isArmstrong(baseNum, calculatedNum):\n",
    "    '''\n",
    "    This function checks if the parameter's value match each other to be an Armstrong number\n",
    "    '''\n",
    "    if baseNum == calculatedNum:\n",
    "        return True\n",
    "    else:\n",
    "        return False\n",
    "\n",
    "def cubesum(armStrongNum):\n",
    "    '''\n",
    "    This function calculates the armstrong number by cubing every individual number in the argument\n",
    "    '''\n",
    "    num = armStrongNum\n",
    "    addition = 0\n",
    "    while num > 0:\n",
    "        addition += ((num % 10) ** 3)\n",
    "        num = int(num / 10)\n",
    "    return addition\n",
    "\n",
    "def PrintArmstrong(rangeNum):\n",
    "    '''\n",
    "    This function prints all the Armstrong numbers belonging in the range provided\n",
    "    '''\n",
    "    for i in range(rangeNum):\n",
    "        result = cubesum(i)\n",
    "        armStrong = isArmstrong(i, result)\n",
    "        if True == armStrong:\n",
    "            print(\"The Number {0} is an Armstrong Number\".format(i))\n",
    "    return\n",
    "\n",
    "number = int(input(\"Enter a range upto where the Armstrong Numbers should be printed : \\n\"))\n",
    "PrintArmstrong(number)\n"
   ]
  },
  {
   "cell_type": "code",
   "execution_count": 33,
   "metadata": {},
   "outputs": [
    {
     "name": "stdout",
     "output_type": "stream",
     "text": [
      "Enter a number : \n",
      "25\n",
      "10\n"
     ]
    }
   ],
   "source": [
    "#7. Function that returns the product of every digit in the number\n",
    "\n",
    "def prodDigits(num):\n",
    "    product = 1\n",
    "    while num > 0:\n",
    "        product *= (num % 10)\n",
    "        num = int(num / 10)\n",
    "    return product\n",
    "\n",
    "number = int(input(\"Enter a number : \\n\"))\n",
    "product = prodDigits(number)\n",
    "print(product)"
   ]
  },
  {
   "cell_type": "code",
   "execution_count": 40,
   "metadata": {},
   "outputs": [
    {
     "name": "stdout",
     "output_type": "stream",
     "text": [
      "2 2\n"
     ]
    }
   ],
   "source": [
    "#8.\n",
    "def MDR(num):\n",
    "    return prodDigits(num)\n",
    "\n",
    "\n",
    "def MPersistence(num, count):\n",
    "    result = MDR(num)\n",
    "    lst = list(str(result))\n",
    "    count += 1\n",
    "    if len(lst) > 1:\n",
    "        MPersistence(result, count)\n",
    "    else:\n",
    "        print(result, count)\n",
    "\n",
    "count = 0\n",
    "MPersistence(341, count)\n",
    "    "
   ]
  },
  {
   "cell_type": "code",
   "execution_count": 16,
   "metadata": {},
   "outputs": [
    {
     "name": "stdout",
     "output_type": "stream",
     "text": [
      "Enter a number to get the divisor : \n",
      "500\n",
      "Sum :  592\n"
     ]
    }
   ],
   "source": [
    "#9. Find the sum of divisor of a number\n",
    "\n",
    "def sumPdivisors(num):\n",
    "    count = 0\n",
    "    for i in range(1, num):\n",
    "        if 0 == num % i:\n",
    "            count += i\n",
    "    return count\n",
    "\n",
    "number = int(input(\"Enter a number to get the divisor : \\n\"))\n",
    "result = sumPdivisors(number)\n",
    "print(\"Sum : \", result)"
   ]
  },
  {
   "cell_type": "code",
   "execution_count": 15,
   "metadata": {},
   "outputs": [
    {
     "name": "stdout",
     "output_type": "stream",
     "text": [
      "Enter the range in which to search perfect numbers : \n",
      "100\n",
      "6 is a perfect Number\n",
      "\n",
      "28 is a perfect Number\n",
      "\n"
     ]
    }
   ],
   "source": [
    "#10. Write a program to print all perfect numbers in a range\n",
    "\n",
    "def perfectNumber(rangeNum):\n",
    "    for i in range(1, rangeNum):\n",
    "        total = 0\n",
    "        for j in range(1, i):\n",
    "            if 0 == i % j:\n",
    "                total += j\n",
    "        if i == total:\n",
    "            print(\"{0} is a perfect Number\\n\".format(i))\n",
    "            \n",
    "number = int(input(\"Enter the range in which to search perfect numbers : \\n\"))\n",
    "perfectNumber(number)\n"
   ]
  },
  {
   "cell_type": "code",
   "execution_count": 64,
   "metadata": {},
   "outputs": [
    {
     "name": "stdout",
     "output_type": "stream",
     "text": [
      "Enter range to print the amicable number: \n",
      "20000\n",
      "Amicable numbers : 220, 284\n",
      "Amicable numbers : 1184, 1210\n",
      "Amicable numbers : 2620, 2924\n",
      "Amicable numbers : 5020, 5564\n",
      "Amicable numbers : 6232, 6368\n",
      "Amicable numbers : 10744, 10856\n",
      "Amicable numbers : 12285, 14595\n",
      "Amicable numbers : 17296, 18416\n"
     ]
    }
   ],
   "source": [
    "#11. Print pairs of amicable numbers\n",
    "def divisorSum(num):\n",
    "    count = 0\n",
    "    for i in range(1, num):\n",
    "        if 0 == num % i:\n",
    "            count += i\n",
    "    return count\n",
    "\n",
    "def amicable(num):\n",
    "    dct = dict()\n",
    "    for i in range(1, num + 1):\n",
    "        divisorCount = divisorSum(i)        \n",
    "        result = dct.get(divisorCount)\n",
    "        if None == result:\n",
    "            dct[i] = divisorCount\n",
    "        else:\n",
    "            if result == i:\n",
    "                print(\"Amicable numbers : {0}, {1}\".format(divisorCount, i))\n",
    "                \n",
    "number = int(input(\"Enter range to print the amicable number: \\n\"))\n",
    "amicable(number)"
   ]
  },
  {
   "cell_type": "code",
   "execution_count": 57,
   "metadata": {},
   "outputs": [
    {
     "name": "stdout",
     "output_type": "stream",
     "text": [
      "[-9, -7, -5, -3, -1, 1, 3, 5, 7, 9]\n"
     ]
    }
   ],
   "source": [
    "#12. Write filter function using fiter\\\n",
    "\n",
    "def oddNumberFilter(num):\n",
    "    if 1 == num % 2:\n",
    "        return num\n",
    "    \n",
    "lst = list(range(-10, 10))    \n",
    "result = list(filter(oddNumberFilter, lst))\n",
    "print(result)"
   ]
  },
  {
   "cell_type": "code",
   "execution_count": 18,
   "metadata": {},
   "outputs": [
    {
     "name": "stdout",
     "output_type": "stream",
     "text": [
      "[-1000, -729, -512, -343, -216, -125, -64, -27, -8, -1, 0, 1, 8, 27, 64, 125, 216, 343, 512, 729]\n"
     ]
    }
   ],
   "source": [
    "#13. Write a function that returns cube of the numbers in a list\n",
    "\n",
    "def cube(num):\n",
    "    return num ** 3\n",
    "\n",
    "lst = list(range(-10, 10))    \n",
    "result = list(map(cube, lst))\n",
    "print(result)"
   ]
  },
  {
   "cell_type": "code",
   "execution_count": 32,
   "metadata": {},
   "outputs": [
    {
     "name": "stdout",
     "output_type": "stream",
     "text": [
      "[-10, -8, -6, -4, -2, 2, 4, 6, 8, 10]\n"
     ]
    }
   ],
   "source": [
    "#14. Write a program which can map() and filter() to make a list whose elements are cube of even number in a given list\n",
    "\n",
    "import math\n",
    "\n",
    "def cuberoot(num):\n",
    "    result = math.ceil(abs(num) ** (1/3))\n",
    "    if num < 0:\n",
    "        result *= -1\n",
    "    return result\n",
    "    \n",
    "def even(num):\n",
    "    if 0 == num % 2:\n",
    "        return num\n",
    "    \n",
    "lst = [-1000, -729, -512, -343, -216, -125, -64, -27, -8, -1, 0, 1, 8, 27, 64, 125, 216, 343, 512, 729, 1000]\n",
    "cubeRootLst = list(map(cuberoot, lst))\n",
    "evenLst = list(filter(even, cubeRootLst))\n",
    "print(evenLst)\n"
   ]
  },
  {
   "cell_type": "code",
   "execution_count": null,
   "metadata": {},
   "outputs": [],
   "source": []
  }
 ],
 "metadata": {
  "kernelspec": {
   "display_name": "Python 2",
   "language": "python",
   "name": "python2"
  },
  "language_info": {
   "codemirror_mode": {
    "name": "ipython",
    "version": 2
   },
   "file_extension": ".py",
   "mimetype": "text/x-python",
   "name": "python",
   "nbconvert_exporter": "python",
   "pygments_lexer": "ipython2",
   "version": "2.7.12"
  }
 },
 "nbformat": 4,
 "nbformat_minor": 4
}
